{
 "cells": [
  {
   "cell_type": "markdown",
   "id": "852aa8d9",
   "metadata": {},
   "source": [
    "# Collecting and analysing social media data: A demo\n",
    "**ResBaz 2022** \n",
    "\n",
    "*Noel Zeng, Centre for eResearch, Waipapa Taumata Rau | University of Auckland*\n",
    "\n",
    "[noel.zeng@auckland.ac.nz](mailto:noel.zeng@auckland.ac.nz)\n",
    "\n",
    "## Acknowledgement\n",
    "Parts of this demo draw from [NYU's NLP+CSS 201 course](https://nlp-css-201-tutorials.github.io/nlp-css-201-tutorials/). It's an excellent resource with recordings and notebooks online, do check it out!\n",
    "\n",
    "## Introduction\n",
    "\n",
    "Social media data can be a rich source for social science research. Yet it can be daunting to get started, and it will require including quantitative methods to handle the volume and velocity of data that sites like Twitter provide. Thankfully, there are lots of tools, libraries and pre-trained models in the Python ecosystem that can help you collect, preprocess and analyse the data.\n",
    "\n",
    "Through this demo, I hope to give you a taste of what kind of work goes into collecting, preprocessing and analysing social media data is like, and the kind of research natural language processing and computational social sciences techniques unlock.\n",
    "\n",
    "### Prerequisites - do these first!\n",
    "To start collecting and analysing Twitter data presented here, you would first need to have:\n",
    "- [ ] Twitter API access - apply through [Twitter Developer](https://developer.twitter.com/) \n",
    "- [ ] Basic Unix shell knowledge (e.g. [SWC Bash Lessons 1 - 4](https://swcarpentry.github.io/shell-novice/)) - to interact with command-line tools like twarc2\n",
    "- [ ] Basic Python knowledge (e.g. [SWC Python all lessons](http://swcarpentry.github.io/python-novice-gapminder/)), to interact with tools like Jupyter Notebook and libraries such as Pandas, NLTK and SpaCy)\n",
    "- [ ] Go through your institution's ethics guidelines on using social media data, if any. University of Auckland has created a module on [Social Media Platforms](https://www.coursebuilder.cad.auckland.ac.nz/flexicourses/5066/publish/1/15_1.html)\n",
    "- [ ] If you want to follow along on your own computer, install and set up required libraries per [the README document](README.md).\n",
    "\n",
    "### Scenario\n",
    "Nation states are increasingly conducting digital diplomacy to \"amplify the government's policy priorities and perspective on world events and, in doing so, influence the global narrative on contemporary issues.\" ([Collins et al 2019](https://link.springer.com/article/10.1057/s41254-019-00119-5))\n",
    "\n",
    "Let's explore the Twitter accounts of a few different foreign affairs ministries from states around the Pacific, to see what they're talking about. What countries do they mention and engage with?\n",
    "\n",
    "![A screenshot of Fiji's Ministry of Foreign Affairs Twitter account.](assets/fiji_mofa.png)\n",
    "\n",
    "### Ethics and privacy\n",
    "There are ethical concerns around social media data, particularly around obtaining and offering the option to withdraw consent for users. Through context collapse ([Davis & Jergenson 2009](https://www.tandfonline.com/doi/full/10.1080/1369118X.2014.888458?journalCode=rics20)) , users may be posting content with the expectation that only followers will see it. \n",
    "\n",
    "This scenario uses Tweets made by public, high-profile organisations which sidesteps some of the concerns. However, it's worth noting their style of posting will be different from the average personal user - more formal, fewer uses of emojis, iRreGuLaR cASEs, or punctuation!!!\n",
    "\n",
    "Refer to your ethics committee for guidance around how to collect and store data appropriately. University of Auckland has a module on [Social Media Platforms](https://www.coursebuilder.cad.auckland.ac.nz/flexicourses/5066/publish/1/15_1.html).\n",
    "\n",
    "### A note about Jupyter notebooks...\n",
    "We are using [Jupyter Notebook](https://jupyter.org/), a browser-based tool and format popular in data science applications that allows you to write and run code, and annotate them with rich-text comments using Markdown. It's made up of blocks of code, with results printed below. Here, we are writing both Python code and Unix shell commands. Unix shell commands have a `!` in front of them."
   ]
  },
  {
   "cell_type": "markdown",
   "id": "86c78442",
   "metadata": {},
   "source": [
    "## Part One - Collecting data\n",
    "Through the [Twitter API](https://developer.twitter.com/en/portal/dashboard), you can retrieve Tweets, Tweet metadata, and information about users. It allows search criteria to be applied, but applies limitations on how many Tweets you can get. Everyone gets the Essentials access level, researchers can apply for the Academic level which offers higher Tweet caps and more complex query terms.\n",
    "\n",
    "APIs are not designed to be accessed manually. We are using **twarc2**, a command-line based tool that retrieves data for you from version 2 of the Twitter API. It will take care of things like pagination, API request limits for you. There are other tools, and browser-based tools are available, but they are harder to install.\n",
    "\n",
    "Refer to the README file for setup and configuration instructions for the twarc tool.\n",
    "\n",
    "To see a list of things `twarc` can do for you, run this command:"
   ]
  },
  {
   "cell_type": "code",
   "execution_count": 1,
   "id": "128847be",
   "metadata": {
    "scrolled": true
   },
   "outputs": [
    {
     "name": "stdout",
     "output_type": "stream",
     "text": [
      "Usage: twarc2 [OPTIONS] COMMAND [ARGS]...\r\n",
      "\r\n",
      "  Collect data from the Twitter V2 API.\r\n",
      "\r\n",
      "Options:\r\n",
      "  --consumer-key TEXT         Twitter app consumer key (aka \"App Key\")\r\n",
      "  --consumer-secret TEXT      Twitter app consumer secret (aka \"App Secret\")\r\n",
      "  --access-token TEXT         Twitter app access token for user\r\n",
      "                              authentication.\r\n",
      "  --access-token-secret TEXT  Twitter app access token secret for user\r\n",
      "                              authentication.\r\n",
      "  --bearer-token TEXT         Twitter app access bearer token.\r\n",
      "  --app-auth / --user-auth    Use application authentication or user\r\n",
      "                              authentication. Some rate limits are higher with\r\n",
      "                              user authentication, but not all endpoints are\r\n",
      "                              supported.  [default: app-auth]\r\n",
      "  -l, --log TEXT\r\n",
      "  --verbose\r\n",
      "  --metadata / --no-metadata  Include/don't include metadata about when and\r\n",
      "                              how data was collected.  [default: metadata]\r\n",
      "  --config FILE               Read configuration from FILE.\r\n",
      "  --help                      Show this message and exit.\r\n",
      "\r\n",
      "Commands:\r\n",
      "  compliance-job  Create, retrieve and list batch compliance jobs for...\r\n",
      "  configure       Set up your Twitter app keys.\r\n",
      "  conversation    Retrieve a conversation thread using the tweet id.\r\n",
      "  conversations   Fetch the full conversation threads that the input...\r\n",
      "  counts          Return counts of tweets matching a query.\r\n",
      "  csv             Convert tweets to CSV.\r\n",
      "  dehydrate       Extract tweet or user IDs from a dataset.\r\n",
      "  flatten         \"Flatten\" tweets, or move expansions inline with tweet...\r\n",
      "  followers       Get the followers for a given user.\r\n",
      "  following       Get the users that a given user is following.\r\n",
      "  hydrate         Hydrate tweet ids.\r\n",
      "  liked-tweets    Get the tweets liked by a specific user_id.\r\n",
      "  liking-users    Get the users that liked a specific tweet.\r\n",
      "  lists           Lists API support.\r\n",
      "  mentions        Retrieve max of 800 of the most recent tweets...\r\n",
      "  places          Search for places by place name, geo coordinates or ip...\r\n",
      "  quotes          Get the tweets that quote tweet the given tweet.\r\n",
      "  retweeted-by    Get the users that retweeted a specific tweet.\r\n",
      "  sample          Fetch tweets from the sample stream.\r\n",
      "  search          Search for tweets.\r\n",
      "  searches        Execute each search in the input file, one at a time.\r\n",
      "  stream          Fetch tweets from the live stream.\r\n",
      "  stream-rules    List, add and delete rules for your stream.\r\n",
      "  timeline        Retrieve recent tweets for the given user.\r\n",
      "  timelines       Fetch the timelines of every user in an input source of...\r\n",
      "  tweet           Look up a tweet using its tweet id or URL.\r\n",
      "  user            Get the profile data for a single user by either...\r\n",
      "  users           Get data for user ids or usernames.\r\n",
      "  version         Return the version of twarc that is installed.\r\n"
     ]
    }
   ],
   "source": [
    "! twarc2 --help"
   ]
  },
  {
   "cell_type": "markdown",
   "id": "f0853110",
   "metadata": {},
   "source": [
    "We will create the needed directories, then run the `twarc2 timeline` command to collect tweets from a user's timeline."
   ]
  },
  {
   "cell_type": "code",
   "execution_count": 109,
   "id": "4954b6b1",
   "metadata": {
    "scrolled": false
   },
   "outputs": [
    {
     "name": "stdout",
     "output_type": "stream",
     "text": [
      "API limit of 3200 reached:  44%|█████▎      | 3226/7261 [01:23<01:44, 38.50it/s]\n"
     ]
    }
   ],
   "source": [
    "! mkdir -p tweets demo\n",
    "! twarc2 timeline MFATNZ > demo/mfatnz.jsonl"
   ]
  },
  {
   "cell_type": "markdown",
   "id": "38cf2792",
   "metadata": {},
   "source": [
    "`twarc2` automatically makes multiple requests to the API which provides several Tweets each time, and accumulates them into a file in the `demo` directory named `mfatnz.jsonl`. Note we get an error after the first 3,200 Tweets. This is due to [Twitter timeline API limits](https://developer.twitter.com/en/docs/twitter-api/tweets/timelines/introduction) - other APIs will have other limits.\n",
    "\n",
    "If you open the file `mfatnz.jsonl` you will see what it's captured. The brackets and colons may seem confusing, but the data is in a [JSON format](https://developer.mozilla.org/en-US/docs/Learn/JavaScript/Objects/JSON).\n",
    "\n",
    "Each line contains several tweets. This is not very easy to work with!\n",
    "\n",
    "`twarc2` provides a way to break up, or \"flatten\" this file into individual Tweets. The resulting file has a Tweet in JSON format on each line."
   ]
  },
  {
   "cell_type": "code",
   "execution_count": 4,
   "id": "9b577812",
   "metadata": {
    "scrolled": true
   },
   "outputs": [
    {
     "name": "stdout",
     "output_type": "stream",
     "text": [
      "100%|██████████████| Processed 17.7M/17.7M of input file [00:01<00:00, 11.1MB/s]\n"
     ]
    }
   ],
   "source": [
    "! twarc2 flatten demo/mfatnz.jsonl demo/mfatnz.flatten.jsonl"
   ]
  },
  {
   "cell_type": "markdown",
   "id": "5879c32c",
   "metadata": {},
   "source": [
    "Since we know each line in this file represents a Tweet, let's see what a Tweet looks like in JSON format, and what extra metadata Twitter provides. The `jq` command prints JSON-formatted data in an easy-to-read way."
   ]
  },
  {
   "cell_type": "code",
   "execution_count": 5,
   "id": "e0f9f353",
   "metadata": {},
   "outputs": [
    {
     "name": "stdout",
     "output_type": "stream",
     "text": [
      "\u001b[1;39m{\r\n",
      "  \u001b[0m\u001b[34;1m\"public_metrics\"\u001b[0m\u001b[1;39m: \u001b[0m\u001b[1;39m{\r\n",
      "    \u001b[0m\u001b[34;1m\"retweet_count\"\u001b[0m\u001b[1;39m: \u001b[0m\u001b[0;39m4\u001b[0m\u001b[1;39m,\r\n",
      "    \u001b[0m\u001b[34;1m\"reply_count\"\u001b[0m\u001b[1;39m: \u001b[0m\u001b[0;39m0\u001b[0m\u001b[1;39m,\r\n",
      "    \u001b[0m\u001b[34;1m\"like_count\"\u001b[0m\u001b[1;39m: \u001b[0m\u001b[0;39m15\u001b[0m\u001b[1;39m,\r\n",
      "    \u001b[0m\u001b[34;1m\"quote_count\"\u001b[0m\u001b[1;39m: \u001b[0m\u001b[0;39m1\u001b[0m\u001b[1;39m\r\n",
      "  \u001b[1;39m}\u001b[0m\u001b[1;39m,\r\n",
      "  \u001b[0m\u001b[34;1m\"source\"\u001b[0m\u001b[1;39m: \u001b[0m\u001b[0;32m\"Brandwatch\"\u001b[0m\u001b[1;39m,\r\n",
      "  \u001b[0m\u001b[34;1m\"lang\"\u001b[0m\u001b[1;39m: \u001b[0m\u001b[0;32m\"en\"\u001b[0m\u001b[1;39m,\r\n",
      "  \u001b[0m\u001b[34;1m\"edit_history_tweet_ids\"\u001b[0m\u001b[1;39m: \u001b[0m\u001b[1;39m[\r\n",
      "    \u001b[0;32m\"1592743018221780992\"\u001b[0m\u001b[1;39m\r\n",
      "  \u001b[1;39m]\u001b[0m\u001b[1;39m,\r\n",
      "  \u001b[0m\u001b[34;1m\"text\"\u001b[0m\u001b[1;39m: \u001b[0m\u001b[0;32m\"#Climate Change Minister James Shaw gave Aotearoa NZ’s National Statement at #COP27 overnight. He called for greater ambition to limit warming to 1.5 degrees, for all of us in the #Pacific. Read it here: New Zealand National Statement – COP27 | https://t.co/zGKgzCz2MQ\"\u001b[0m\u001b[1;39m,\r\n",
      "  \u001b[0m\u001b[34;1m\"id\"\u001b[0m\u001b[1;39m: \u001b[0m\u001b[0;32m\"1592743018221780992\"\u001b[0m\u001b[1;39m,\r\n",
      "  \u001b[0m\u001b[34;1m\"context_annotations\"\u001b[0m\u001b[1;39m: \u001b[0m\u001b[1;39m[\r\n",
      "    \u001b[1;39m{\r\n",
      "      \u001b[0m\u001b[34;1m\"domain\"\u001b[0m\u001b[1;39m: \u001b[0m\u001b[1;39m{\r\n",
      "        \u001b[0m\u001b[34;1m\"id\"\u001b[0m\u001b[1;39m: \u001b[0m\u001b[0;32m\"29\"\u001b[0m\u001b[1;39m,\r\n",
      "        \u001b[0m\u001b[34;1m\"name\"\u001b[0m\u001b[1;39m: \u001b[0m\u001b[0;32m\"Events [Entity Service]\"\u001b[0m\u001b[1;39m,\r\n",
      "        \u001b[0m\u001b[34;1m\"description\"\u001b[0m\u001b[1;39m: \u001b[0m\u001b[0;32m\"Real world events. \"\u001b[0m\u001b[1;39m\r\n",
      "      \u001b[1;39m}\u001b[0m\u001b[1;39m,\r\n",
      "      \u001b[0m\u001b[34;1m\"entity\"\u001b[0m\u001b[1;39m: \u001b[0m\u001b[1;39m{\r\n",
      "        \u001b[0m\u001b[34;1m\"id\"\u001b[0m\u001b[1;39m: \u001b[0m\u001b[0;32m\"1575059325864681472\"\u001b[0m\u001b[1;39m,\r\n",
      "        \u001b[0m\u001b[34;1m\"name\"\u001b[0m\u001b[1;39m: \u001b[0m\u001b[0;32m\"COP27 Sharm Al Sheikh, Egypt\"\u001b[0m\u001b[1;39m\r\n",
      "      \u001b[1;39m}\u001b[0m\u001b[1;39m\r\n",
      "    \u001b[1;39m}\u001b[0m\u001b[1;39m,\r\n",
      "    \u001b[1;39m{\r\n",
      "      \u001b[0m\u001b[34;1m\"domain\"\u001b[0m\u001b[1;39m: \u001b[0m\u001b[1;39m{\r\n",
      "        \u001b[0m\u001b[34;1m\"id\"\u001b[0m\u001b[1;39m: \u001b[0m\u001b[0;32m\"131\"\u001b[0m\u001b[1;39m,\r\n",
      "        \u001b[0m\u001b[34;1m\"name\"\u001b[0m\u001b[1;39m: \u001b[0m\u001b[0;32m\"Unified Twitter Taxonomy\"\u001b[0m\u001b[1;39m,\r\n",
      "        \u001b[0m\u001b[34;1m\"description\"\u001b[0m\u001b[1;39m: \u001b[0m\u001b[0;32m\"A taxonomy of user interests. \"\u001b[0m\u001b[1;39m\r\n",
      "      \u001b[1;39m}\u001b[0m\u001b[1;39m,\r\n",
      "      \u001b[0m\u001b[34;1m\"entity\"\u001b[0m\u001b[1;39m: \u001b[0m\u001b[1;39m{\r\n",
      "        \u001b[0m\u001b[34;1m\"id\"\u001b[0m\u001b[1;39m: \u001b[0m\u001b[0;32m\"1265415402915393537\"\u001b[0m\u001b[1;39m,\r\n",
      "        \u001b[0m\u001b[34;1m\"name\"\u001b[0m\u001b[1;39m: \u001b[0m\u001b[0;32m\"Climate change\"\u001b[0m\u001b[1;39m\r\n",
      "      \u001b[1;39m}\u001b[0m\u001b[1;39m\r\n",
      "    \u001b[1;39m}\u001b[0m\u001b[1;39m,\r\n",
      "    \u001b[1;39m{\r\n",
      "      \u001b[0m\u001b[34;1m\"domain\"\u001b[0m\u001b[1;39m: \u001b[0m\u001b[1;39m{\r\n",
      "        \u001b[0m\u001b[34;1m\"id\"\u001b[0m\u001b[1;39m: \u001b[0m\u001b[0;32m\"10\"\u001b[0m\u001b[1;39m,\r\n",
      "        \u001b[0m\u001b[34;1m\"name\"\u001b[0m\u001b[1;39m: \u001b[0m\u001b[0;32m\"Person\"\u001b[0m\u001b[1;39m,\r\n",
      "        \u001b[0m\u001b[34;1m\"description\"\u001b[0m\u001b[1;39m: \u001b[0m\u001b[0;32m\"Named people in the world like Nelson Mandela\"\u001b[0m\u001b[1;39m\r\n",
      "      \u001b[1;39m}\u001b[0m\u001b[1;39m,\r\n",
      "      \u001b[0m\u001b[34;1m\"entity\"\u001b[0m\u001b[1;39m: \u001b[0m\u001b[1;39m{\r\n",
      "        \u001b[0m\u001b[34;1m\"id\"\u001b[0m\u001b[1;39m: \u001b[0m\u001b[0;32m\"887585548042256388\"\u001b[0m\u001b[1;39m,\r\n",
      "        \u001b[0m\u001b[34;1m\"name\"\u001b[0m\u001b[1;39m: \u001b[0m\u001b[0;32m\"James Shaw\"\u001b[0m\u001b[1;39m,\r\n",
      "        \u001b[0m\u001b[34;1m\"description\"\u001b[0m\u001b[1;39m: \u001b[0m\u001b[0;32m\"New Zealand Party Leader James Shaw\"\u001b[0m\u001b[1;39m\r\n",
      "      \u001b[1;39m}\u001b[0m\u001b[1;39m\r\n",
      "    \u001b[1;39m}\u001b[0m\u001b[1;39m,\r\n",
      "    \u001b[1;39m{\r\n",
      "      \u001b[0m\u001b[34;1m\"domain\"\u001b[0m\u001b[1;39m: \u001b[0m\u001b[1;39m{\r\n",
      "        \u001b[0m\u001b[34;1m\"id\"\u001b[0m\u001b[1;39m: \u001b[0m\u001b[0;32m\"35\"\u001b[0m\u001b[1;39m,\r\n",
      "        \u001b[0m\u001b[34;1m\"name\"\u001b[0m\u001b[1;39m: \u001b[0m\u001b[0;32m\"Politician\"\u001b[0m\u001b[1;39m,\r\n",
      "        \u001b[0m\u001b[34;1m\"description\"\u001b[0m\u001b[1;39m: \u001b[0m\u001b[0;32m\"Politicians in the world, like Joe Biden\"\u001b[0m\u001b[1;39m\r\n",
      "      \u001b[1;39m}\u001b[0m\u001b[1;39m,\r\n",
      "      \u001b[0m\u001b[34;1m\"entity\"\u001b[0m\u001b[1;39m: \u001b[0m\u001b[1;39m{\r\n",
      "        \u001b[0m\u001b[34;1m\"id\"\u001b[0m\u001b[1;39m: \u001b[0m\u001b[0;32m\"887585548042256388\"\u001b[0m\u001b[1;39m,\r\n",
      "        \u001b[0m\u001b[34;1m\"name\"\u001b[0m\u001b[1;39m: \u001b[0m\u001b[0;32m\"James Shaw\"\u001b[0m\u001b[1;39m,\r\n",
      "        \u001b[0m\u001b[34;1m\"description\"\u001b[0m\u001b[1;39m: \u001b[0m\u001b[0;32m\"New Zealand Party Leader James Shaw\"\u001b[0m\u001b[1;39m\r\n",
      "      \u001b[1;39m}\u001b[0m\u001b[1;39m\r\n",
      "    \u001b[1;39m}\u001b[0m\u001b[1;39m,\r\n",
      "    \u001b[1;39m{\r\n",
      "      \u001b[0m\u001b[34;1m\"domain\"\u001b[0m\u001b[1;39m: \u001b[0m\u001b[1;39m{\r\n",
      "        \u001b[0m\u001b[34;1m\"id\"\u001b[0m\u001b[1;39m: \u001b[0m\u001b[0;32m\"131\"\u001b[0m\u001b[1;39m,\r\n",
      "        \u001b[0m\u001b[34;1m\"name\"\u001b[0m\u001b[1;39m: \u001b[0m\u001b[0;32m\"Unified Twitter Taxonomy\"\u001b[0m\u001b[1;39m,\r\n",
      "        \u001b[0m\u001b[34;1m\"description\"\u001b[0m\u001b[1;39m: \u001b[0m\u001b[0;32m\"A taxonomy of user interests. \"\u001b[0m\u001b[1;39m\r\n",
      "      \u001b[1;39m}\u001b[0m\u001b[1;39m,\r\n",
      "      \u001b[0m\u001b[34;1m\"entity\"\u001b[0m\u001b[1;39m: \u001b[0m\u001b[1;39m{\r\n",
      "        \u001b[0m\u001b[34;1m\"id\"\u001b[0m\u001b[1;39m: \u001b[0m\u001b[0;32m\"847878884917886977\"\u001b[0m\u001b[1;39m,\r\n",
      "        \u001b[0m\u001b[34;1m\"name\"\u001b[0m\u001b[1;39m: \u001b[0m\u001b[0;32m\"Politics\"\u001b[0m\u001b[1;39m,\r\n",
      "        \u001b[0m\u001b[34;1m\"description\"\u001b[0m\u001b[1;39m: \u001b[0m\u001b[0;32m\"Politics\"\u001b[0m\u001b[1;39m\r\n",
      "      \u001b[1;39m}\u001b[0m\u001b[1;39m\r\n",
      "    \u001b[1;39m}\u001b[0m\u001b[1;39m,\r\n",
      "    \u001b[1;39m{\r\n",
      "      \u001b[0m\u001b[34;1m\"domain\"\u001b[0m\u001b[1;39m: \u001b[0m\u001b[1;39m{\r\n",
      "        \u001b[0m\u001b[34;1m\"id\"\u001b[0m\u001b[1;39m: \u001b[0m\u001b[0;32m\"131\"\u001b[0m\u001b[1;39m,\r\n",
      "        \u001b[0m\u001b[34;1m\"name\"\u001b[0m\u001b[1;39m: \u001b[0m\u001b[0;32m\"Unified Twitter Taxonomy\"\u001b[0m\u001b[1;39m,\r\n",
      "        \u001b[0m\u001b[34;1m\"description\"\u001b[0m\u001b[1;39m: \u001b[0m\u001b[0;32m\"A taxonomy of user interests. \"\u001b[0m\u001b[1;39m\r\n",
      "      \u001b[1;39m}\u001b[0m\u001b[1;39m,\r\n",
      "      \u001b[0m\u001b[34;1m\"entity\"\u001b[0m\u001b[1;39m: \u001b[0m\u001b[1;39m{\r\n",
      "        \u001b[0m\u001b[34;1m\"id\"\u001b[0m\u001b[1;39m: \u001b[0m\u001b[0;32m\"874811014151192576\"\u001b[0m\u001b[1;39m,\r\n",
      "        \u001b[0m\u001b[34;1m\"name\"\u001b[0m\u001b[1;39m: \u001b[0m\u001b[0;32m\"Global Environmental Issues\"\u001b[0m\u001b[1;39m,\r\n",
      "        \u001b[0m\u001b[34;1m\"description\"\u001b[0m\u001b[1;39m: \u001b[0m\u001b[0;32m\"Environmentally/wildlife aware discussion and policies that affect them.\"\u001b[0m\u001b[1;39m\r\n",
      "      \u001b[1;39m}\u001b[0m\u001b[1;39m\r\n",
      "    \u001b[1;39m}\u001b[0m\u001b[1;39m,\r\n",
      "    \u001b[1;39m{\r\n",
      "      \u001b[0m\u001b[34;1m\"domain\"\u001b[0m\u001b[1;39m: \u001b[0m\u001b[1;39m{\r\n",
      "        \u001b[0m\u001b[34;1m\"id\"\u001b[0m\u001b[1;39m: \u001b[0m\u001b[0;32m\"131\"\u001b[0m\u001b[1;39m,\r\n",
      "        \u001b[0m\u001b[34;1m\"name\"\u001b[0m\u001b[1;39m: \u001b[0m\u001b[0;32m\"Unified Twitter Taxonomy\"\u001b[0m\u001b[1;39m,\r\n",
      "        \u001b[0m\u001b[34;1m\"description\"\u001b[0m\u001b[1;39m: \u001b[0m\u001b[0;32m\"A taxonomy of user interests. \"\u001b[0m\u001b[1;39m\r\n",
      "      \u001b[1;39m}\u001b[0m\u001b[1;39m,\r\n",
      "      \u001b[0m\u001b[34;1m\"entity\"\u001b[0m\u001b[1;39m: \u001b[0m\u001b[1;39m{\r\n",
      "        \u001b[0m\u001b[34;1m\"id\"\u001b[0m\u001b[1;39m: \u001b[0m\u001b[0;32m\"887585548042256388\"\u001b[0m\u001b[1;39m,\r\n",
      "        \u001b[0m\u001b[34;1m\"name\"\u001b[0m\u001b[1;39m: \u001b[0m\u001b[0;32m\"James Shaw\"\u001b[0m\u001b[1;39m,\r\n",
      "        \u001b[0m\u001b[34;1m\"description\"\u001b[0m\u001b[1;39m: \u001b[0m\u001b[0;32m\"New Zealand Party Leader James Shaw\"\u001b[0m\u001b[1;39m\r\n",
      "      \u001b[1;39m}\u001b[0m\u001b[1;39m\r\n",
      "    \u001b[1;39m}\u001b[0m\u001b[1;39m,\r\n",
      "    \u001b[1;39m{\r\n",
      "      \u001b[0m\u001b[34;1m\"domain\"\u001b[0m\u001b[1;39m: \u001b[0m\u001b[1;39m{\r\n",
      "        \u001b[0m\u001b[34;1m\"id\"\u001b[0m\u001b[1;39m: \u001b[0m\u001b[0;32m\"131\"\u001b[0m\u001b[1;39m,\r\n",
      "        \u001b[0m\u001b[34;1m\"name\"\u001b[0m\u001b[1;39m: \u001b[0m\u001b[0;32m\"Unified Twitter Taxonomy\"\u001b[0m\u001b[1;39m,\r\n",
      "        \u001b[0m\u001b[34;1m\"description\"\u001b[0m\u001b[1;39m: \u001b[0m\u001b[0;32m\"A taxonomy of user interests. \"\u001b[0m\u001b[1;39m\r\n",
      "      \u001b[1;39m}\u001b[0m\u001b[1;39m,\r\n",
      "      \u001b[0m\u001b[34;1m\"entity\"\u001b[0m\u001b[1;39m: \u001b[0m\u001b[1;39m{\r\n",
      "        \u001b[0m\u001b[34;1m\"id\"\u001b[0m\u001b[1;39m: \u001b[0m\u001b[0;32m\"900740740468191232\"\u001b[0m\u001b[1;39m,\r\n",
      "        \u001b[0m\u001b[34;1m\"name\"\u001b[0m\u001b[1;39m: \u001b[0m\u001b[0;32m\"Political issues\"\u001b[0m\u001b[1;39m,\r\n",
      "        \u001b[0m\u001b[34;1m\"description\"\u001b[0m\u001b[1;39m: \u001b[0m\u001b[0;32m\"Political issues\"\u001b[0m\u001b[1;39m\r\n",
      "      \u001b[1;39m}\u001b[0m\u001b[1;39m\r\n",
      "    \u001b[1;39m}\u001b[0m\u001b[1;39m,\r\n",
      "    \u001b[1;39m{\r\n",
      "      \u001b[0m\u001b[34;1m\"domain\"\u001b[0m\u001b[1;39m: \u001b[0m\u001b[1;39m{\r\n",
      "        \u001b[0m\u001b[34;1m\"id\"\u001b[0m\u001b[1;39m: \u001b[0m\u001b[0;32m\"131\"\u001b[0m\u001b[1;39m,\r\n",
      "        \u001b[0m\u001b[34;1m\"name\"\u001b[0m\u001b[1;39m: \u001b[0m\u001b[0;32m\"Unified Twitter Taxonomy\"\u001b[0m\u001b[1;39m,\r\n",
      "        \u001b[0m\u001b[34;1m\"description\"\u001b[0m\u001b[1;39m: \u001b[0m\u001b[0;32m\"A taxonomy of user interests. \"\u001b[0m\u001b[1;39m\r\n",
      "      \u001b[1;39m}\u001b[0m\u001b[1;39m,\r\n",
      "      \u001b[0m\u001b[34;1m\"entity\"\u001b[0m\u001b[1;39m: \u001b[0m\u001b[1;39m{\r\n",
      "        \u001b[0m\u001b[34;1m\"id\"\u001b[0m\u001b[1;39m: \u001b[0m\u001b[0;32m\"1070032753834438656\"\u001b[0m\u001b[1;39m,\r\n",
      "        \u001b[0m\u001b[34;1m\"name\"\u001b[0m\u001b[1;39m: \u001b[0m\u001b[0;32m\"Political figures\"\u001b[0m\u001b[1;39m,\r\n",
      "        \u001b[0m\u001b[34;1m\"description\"\u001b[0m\u001b[1;39m: \u001b[0m\u001b[0;32m\"Politician\"\u001b[0m\u001b[1;39m\r\n",
      "      \u001b[1;39m}\u001b[0m\u001b[1;39m\r\n",
      "    \u001b[1;39m}\u001b[0m\u001b[1;39m\r\n",
      "  \u001b[1;39m]\u001b[0m\u001b[1;39m,\r\n",
      "  \u001b[0m\u001b[34;1m\"author_id\"\u001b[0m\u001b[1;39m: \u001b[0m\u001b[0;32m\"1611641605\"\u001b[0m\u001b[1;39m,\r\n",
      "  \u001b[0m\u001b[34;1m\"possibly_sensitive\"\u001b[0m\u001b[1;39m: \u001b[0m\u001b[0;39mfalse\u001b[0m\u001b[1;39m,\r\n",
      "  \u001b[0m\u001b[34;1m\"edit_controls\"\u001b[0m\u001b[1;39m: \u001b[0m\u001b[1;39m{\r\n",
      "    \u001b[0m\u001b[34;1m\"edits_remaining\"\u001b[0m\u001b[1;39m: \u001b[0m\u001b[0;39m5\u001b[0m\u001b[1;39m,\r\n",
      "    \u001b[0m\u001b[34;1m\"is_edit_eligible\"\u001b[0m\u001b[1;39m: \u001b[0m\u001b[0;39mtrue\u001b[0m\u001b[1;39m,\r\n",
      "    \u001b[0m\u001b[34;1m\"editable_until\"\u001b[0m\u001b[1;39m: \u001b[0m\u001b[0;32m\"2022-11-16T05:25:01.000Z\"\u001b[0m\u001b[1;39m\r\n",
      "  \u001b[1;39m}\u001b[0m\u001b[1;39m,\r\n",
      "  \u001b[0m\u001b[34;1m\"entities\"\u001b[0m\u001b[1;39m: \u001b[0m\u001b[1;39m{\r\n",
      "    \u001b[0m\u001b[34;1m\"urls\"\u001b[0m\u001b[1;39m: \u001b[0m\u001b[1;39m[\r\n",
      "      \u001b[1;39m{\r\n",
      "        \u001b[0m\u001b[34;1m\"start\"\u001b[0m\u001b[1;39m: \u001b[0m\u001b[0;39m245\u001b[0m\u001b[1;39m,\r\n",
      "        \u001b[0m\u001b[34;1m\"end\"\u001b[0m\u001b[1;39m: \u001b[0m\u001b[0;39m268\u001b[0m\u001b[1;39m,\r\n",
      "        \u001b[0m\u001b[34;1m\"url\"\u001b[0m\u001b[1;39m: \u001b[0m\u001b[0;32m\"https://t.co/zGKgzCz2MQ\"\u001b[0m\u001b[1;39m,\r\n",
      "        \u001b[0m\u001b[34;1m\"expanded_url\"\u001b[0m\u001b[1;39m: \u001b[0m\u001b[0;32m\"http://Beehive.govt.nz\"\u001b[0m\u001b[1;39m,\r\n",
      "        \u001b[0m\u001b[34;1m\"display_url\"\u001b[0m\u001b[1;39m: \u001b[0m\u001b[0;32m\"Beehive.govt.nz\"\u001b[0m\u001b[1;39m,\r\n",
      "        \u001b[0m\u001b[34;1m\"images\"\u001b[0m\u001b[1;39m: \u001b[0m\u001b[1;39m[\r\n",
      "          \u001b[1;39m{\r\n",
      "            \u001b[0m\u001b[34;1m\"url\"\u001b[0m\u001b[1;39m: \u001b[0m\u001b[0;32m\"https://pbs.twimg.com/news_img/1590865945194823681/tnnMj9vG?format=png&name=orig\"\u001b[0m\u001b[1;39m,\r\n",
      "            \u001b[0m\u001b[34;1m\"width\"\u001b[0m\u001b[1;39m: \u001b[0m\u001b[0;39m1200\u001b[0m\u001b[1;39m,\r\n",
      "            \u001b[0m\u001b[34;1m\"height\"\u001b[0m\u001b[1;39m: \u001b[0m\u001b[0;39m650\u001b[0m\u001b[1;39m\r\n",
      "          \u001b[1;39m}\u001b[0m\u001b[1;39m,\r\n",
      "          \u001b[1;39m{\r\n",
      "            \u001b[0m\u001b[34;1m\"url\"\u001b[0m\u001b[1;39m: \u001b[0m\u001b[0;32m\"https://pbs.twimg.com/news_img/1590865945194823681/tnnMj9vG?format=png&name=150x150\"\u001b[0m\u001b[1;39m,\r\n",
      "            \u001b[0m\u001b[34;1m\"width\"\u001b[0m\u001b[1;39m: \u001b[0m\u001b[0;39m150\u001b[0m\u001b[1;39m,\r\n",
      "            \u001b[0m\u001b[34;1m\"height\"\u001b[0m\u001b[1;39m: \u001b[0m\u001b[0;39m150\u001b[0m\u001b[1;39m\r\n",
      "          \u001b[1;39m}\u001b[0m\u001b[1;39m\r\n",
      "        \u001b[1;39m]\u001b[0m\u001b[1;39m,\r\n",
      "        \u001b[0m\u001b[34;1m\"status\"\u001b[0m\u001b[1;39m: \u001b[0m\u001b[0;39m200\u001b[0m\u001b[1;39m,\r\n",
      "        \u001b[0m\u001b[34;1m\"title\"\u001b[0m\u001b[1;39m: \u001b[0m\u001b[0;32m\"Latest News from the Beehive | Beehive.govt.nz\"\u001b[0m\u001b[1;39m,\r\n",
      "        \u001b[0m\u001b[34;1m\"description\"\u001b[0m\u001b[1;39m: \u001b[0m\u001b[0;32m\"Information about: Ministers, their portfolios, newsletters and contact details; Speeches, press releases and press conference transcripts; Ministerial briefings; Major Government initiatives and policies; and Information from previous Governments.\"\u001b[0m\u001b[1;39m,\r\n",
      "        \u001b[0m\u001b[34;1m\"unwound_url\"\u001b[0m\u001b[1;39m: \u001b[0m\u001b[0;32m\"http://www.beehive.govt.nz/\"\u001b[0m\u001b[1;39m\r\n",
      "      \u001b[1;39m}\u001b[0m\u001b[1;39m\r\n",
      "    \u001b[1;39m]\u001b[0m\u001b[1;39m,\r\n",
      "    \u001b[0m\u001b[34;1m\"hashtags\"\u001b[0m\u001b[1;39m: \u001b[0m\u001b[1;39m[\r\n",
      "      \u001b[1;39m{\r\n",
      "        \u001b[0m\u001b[34;1m\"start\"\u001b[0m\u001b[1;39m: \u001b[0m\u001b[0;39m0\u001b[0m\u001b[1;39m,\r\n",
      "        \u001b[0m\u001b[34;1m\"end\"\u001b[0m\u001b[1;39m: \u001b[0m\u001b[0;39m8\u001b[0m\u001b[1;39m,\r\n",
      "        \u001b[0m\u001b[34;1m\"tag\"\u001b[0m\u001b[1;39m: \u001b[0m\u001b[0;32m\"Climate\"\u001b[0m\u001b[1;39m\r\n",
      "      \u001b[1;39m}\u001b[0m\u001b[1;39m,\r\n",
      "      \u001b[1;39m{\r\n",
      "        \u001b[0m\u001b[34;1m\"start\"\u001b[0m\u001b[1;39m: \u001b[0m\u001b[0;39m77\u001b[0m\u001b[1;39m,\r\n",
      "        \u001b[0m\u001b[34;1m\"end\"\u001b[0m\u001b[1;39m: \u001b[0m\u001b[0;39m83\u001b[0m\u001b[1;39m,\r\n",
      "        \u001b[0m\u001b[34;1m\"tag\"\u001b[0m\u001b[1;39m: \u001b[0m\u001b[0;32m\"COP27\"\u001b[0m\u001b[1;39m\r\n",
      "      \u001b[1;39m}\u001b[0m\u001b[1;39m,\r\n",
      "      \u001b[1;39m{\r\n",
      "        \u001b[0m\u001b[34;1m\"start\"\u001b[0m\u001b[1;39m: \u001b[0m\u001b[0;39m180\u001b[0m\u001b[1;39m,\r\n",
      "        \u001b[0m\u001b[34;1m\"end\"\u001b[0m\u001b[1;39m: \u001b[0m\u001b[0;39m188\u001b[0m\u001b[1;39m,\r\n",
      "        \u001b[0m\u001b[34;1m\"tag\"\u001b[0m\u001b[1;39m: \u001b[0m\u001b[0;32m\"Pacific\"\u001b[0m\u001b[1;39m\r\n",
      "      \u001b[1;39m}\u001b[0m\u001b[1;39m\r\n",
      "    \u001b[1;39m]\u001b[0m\u001b[1;39m\r\n",
      "  \u001b[1;39m}\u001b[0m\u001b[1;39m,\r\n",
      "  \u001b[0m\u001b[34;1m\"reply_settings\"\u001b[0m\u001b[1;39m: \u001b[0m\u001b[0;32m\"everyone\"\u001b[0m\u001b[1;39m,\r\n",
      "  \u001b[0m\u001b[34;1m\"conversation_id\"\u001b[0m\u001b[1;39m: \u001b[0m\u001b[0;32m\"1592743018221780992\"\u001b[0m\u001b[1;39m,\r\n",
      "  \u001b[0m\u001b[34;1m\"created_at\"\u001b[0m\u001b[1;39m: \u001b[0m\u001b[0;32m\"2022-11-16T04:55:01.000Z\"\u001b[0m\u001b[1;39m,\r\n",
      "  \u001b[0m\u001b[34;1m\"author\"\u001b[0m\u001b[1;39m: \u001b[0m\u001b[1;39m{\r\n",
      "    \u001b[0m\u001b[34;1m\"public_metrics\"\u001b[0m\u001b[1;39m: \u001b[0m\u001b[1;39m{\r\n",
      "      \u001b[0m\u001b[34;1m\"followers_count\"\u001b[0m\u001b[1;39m: \u001b[0m\u001b[0;39m23664\u001b[0m\u001b[1;39m,\r\n",
      "      \u001b[0m\u001b[34;1m\"following_count\"\u001b[0m\u001b[1;39m: \u001b[0m\u001b[0;39m610\u001b[0m\u001b[1;39m,\r\n",
      "      \u001b[0m\u001b[34;1m\"tweet_count\"\u001b[0m\u001b[1;39m: \u001b[0m\u001b[0;39m7193\u001b[0m\u001b[1;39m,\r\n",
      "      \u001b[0m\u001b[34;1m\"listed_count\"\u001b[0m\u001b[1;39m: \u001b[0m\u001b[0;39m329\u001b[0m\u001b[1;39m\r\n",
      "    \u001b[1;39m}\u001b[0m\u001b[1;39m,\r\n",
      "    \u001b[0m\u001b[34;1m\"id\"\u001b[0m\u001b[1;39m: \u001b[0m\u001b[0;32m\"1611641605\"\u001b[0m\u001b[1;39m,\r\n",
      "    \u001b[0m\u001b[34;1m\"url\"\u001b[0m\u001b[1;39m: \u001b[0m\u001b[0;32m\"https://t.co/xwaAyhW8ZS\"\u001b[0m\u001b[1;39m,\r\n",
      "    \u001b[0m\u001b[34;1m\"description\"\u001b[0m\u001b[1;39m: \u001b[0m\u001b[0;32m\"🇳🇿 Kia hangai ake e te Manatū Aorere he ao-haumaru, ao-tōnui, ao-pūmau, ki te oranga tonutanga mo Aotearoa whānui. Tikanga: https://t.co/IRUsMXE0gd\"\u001b[0m\u001b[1;39m,\r\n",
      "    \u001b[0m\u001b[34;1m\"location\"\u001b[0m\u001b[1;39m: \u001b[0m\u001b[0;32m\"Wellington City, New Zealand\"\u001b[0m\u001b[1;39m,\r\n",
      "    \u001b[0m\u001b[34;1m\"verified\"\u001b[0m\u001b[1;39m: \u001b[0m\u001b[0;39mtrue\u001b[0m\u001b[1;39m,\r\n",
      "    \u001b[0m\u001b[34;1m\"entities\"\u001b[0m\u001b[1;39m: \u001b[0m\u001b[1;39m{\r\n",
      "      \u001b[0m\u001b[34;1m\"url\"\u001b[0m\u001b[1;39m: \u001b[0m\u001b[1;39m{\r\n",
      "        \u001b[0m\u001b[34;1m\"urls\"\u001b[0m\u001b[1;39m: \u001b[0m\u001b[1;39m[\r\n",
      "          \u001b[1;39m{\r\n",
      "            \u001b[0m\u001b[34;1m\"start\"\u001b[0m\u001b[1;39m: \u001b[0m\u001b[0;39m0\u001b[0m\u001b[1;39m,\r\n",
      "            \u001b[0m\u001b[34;1m\"end\"\u001b[0m\u001b[1;39m: \u001b[0m\u001b[0;39m23\u001b[0m\u001b[1;39m,\r\n",
      "            \u001b[0m\u001b[34;1m\"url\"\u001b[0m\u001b[1;39m: \u001b[0m\u001b[0;32m\"https://t.co/xwaAyhW8ZS\"\u001b[0m\u001b[1;39m,\r\n",
      "            \u001b[0m\u001b[34;1m\"expanded_url\"\u001b[0m\u001b[1;39m: \u001b[0m\u001b[0;32m\"https://mfat.govt.nz/\"\u001b[0m\u001b[1;39m,\r\n",
      "            \u001b[0m\u001b[34;1m\"display_url\"\u001b[0m\u001b[1;39m: \u001b[0m\u001b[0;32m\"mfat.govt.nz\"\u001b[0m\u001b[1;39m\r\n",
      "          \u001b[1;39m}\u001b[0m\u001b[1;39m\r\n",
      "        \u001b[1;39m]\u001b[0m\u001b[1;39m\r\n",
      "      \u001b[1;39m}\u001b[0m\u001b[1;39m,\r\n",
      "      \u001b[0m\u001b[34;1m\"description\"\u001b[0m\u001b[1;39m: \u001b[0m\u001b[1;39m{\r\n",
      "        \u001b[0m\u001b[34;1m\"urls\"\u001b[0m\u001b[1;39m: \u001b[0m\u001b[1;39m[\r\n",
      "          \u001b[1;39m{\r\n",
      "            \u001b[0m\u001b[34;1m\"start\"\u001b[0m\u001b[1;39m: \u001b[0m\u001b[0;39m124\u001b[0m\u001b[1;39m,\r\n",
      "            \u001b[0m\u001b[34;1m\"end\"\u001b[0m\u001b[1;39m: \u001b[0m\u001b[0;39m147\u001b[0m\u001b[1;39m,\r\n",
      "            \u001b[0m\u001b[34;1m\"url\"\u001b[0m\u001b[1;39m: \u001b[0m\u001b[0;32m\"https://t.co/IRUsMXE0gd\"\u001b[0m\u001b[1;39m,\r\n",
      "            \u001b[0m\u001b[34;1m\"expanded_url\"\u001b[0m\u001b[1;39m: \u001b[0m\u001b[0;32m\"http://mfat.govt.nz/terms-of-use\"\u001b[0m\u001b[1;39m,\r\n",
      "            \u001b[0m\u001b[34;1m\"display_url\"\u001b[0m\u001b[1;39m: \u001b[0m\u001b[0;32m\"mfat.govt.nz/terms-of-use\"\u001b[0m\u001b[1;39m\r\n",
      "          \u001b[1;39m}\u001b[0m\u001b[1;39m\r\n",
      "        \u001b[1;39m]\u001b[0m\u001b[1;39m\r\n",
      "      \u001b[1;39m}\u001b[0m\u001b[1;39m\r\n",
      "    \u001b[1;39m}\u001b[0m\u001b[1;39m,\r\n",
      "    \u001b[0m\u001b[34;1m\"protected\"\u001b[0m\u001b[1;39m: \u001b[0m\u001b[0;39mfalse\u001b[0m\u001b[1;39m,\r\n",
      "    \u001b[0m\u001b[34;1m\"created_at\"\u001b[0m\u001b[1;39m: \u001b[0m\u001b[0;32m\"2013-07-22T00:09:39.000Z\"\u001b[0m\u001b[1;39m,\r\n",
      "    \u001b[0m\u001b[34;1m\"username\"\u001b[0m\u001b[1;39m: \u001b[0m\u001b[0;32m\"MFATNZ\"\u001b[0m\u001b[1;39m,\r\n",
      "    \u001b[0m\u001b[34;1m\"name\"\u001b[0m\u001b[1;39m: \u001b[0m\u001b[0;32m\"New Zealand Ministry of Foreign Affairs & Trade\"\u001b[0m\u001b[1;39m,\r\n",
      "    \u001b[0m\u001b[34;1m\"profile_image_url\"\u001b[0m\u001b[1;39m: \u001b[0m\u001b[0;32m\"https://pbs.twimg.com/profile_images/1443746731959545875/xbVca--X_normal.jpg\"\u001b[0m\u001b[1;39m\r\n",
      "  \u001b[1;39m}\u001b[0m\u001b[1;39m,\r\n",
      "  \u001b[0m\u001b[34;1m\"__twarc\"\u001b[0m\u001b[1;39m: \u001b[0m\u001b[1;39m{\r\n",
      "    \u001b[0m\u001b[34;1m\"url\"\u001b[0m\u001b[1;39m: \u001b[0m\u001b[0;32m\"https://api.twitter.com/2/users/1611641605/tweets?expansions=author_id%2Cin_reply_to_user_id%2Creferenced_tweets.id%2Creferenced_tweets.id.author_id%2Centities.mentions.username%2Cattachments.poll_ids%2Cattachments.media_keys%2Cgeo.place_id%2Cedit_history_tweet_ids&tweet.fields=attachments%2Cauthor_id%2Ccontext_annotations%2Cconversation_id%2Ccreated_at%2Centities%2Cgeo%2Cid%2Cin_reply_to_user_id%2Clang%2Cpublic_metrics%2Ctext%2Cpossibly_sensitive%2Creferenced_tweets%2Creply_settings%2Csource%2Cwithheld%2Cedit_controls&user.fields=created_at%2Cdescription%2Centities%2Cid%2Clocation%2Cname%2Cpinned_tweet_id%2Cprofile_image_url%2Cprotected%2Cpublic_metrics%2Curl%2Cusername%2Cverified%2Cwithheld&media.fields=alt_text%2Cduration_ms%2Cheight%2Cmedia_key%2Cpreview_image_url%2Ctype%2Curl%2Cwidth%2Cpublic_metrics&poll.fields=duration_minutes%2Cend_datetime%2Cid%2Coptions%2Cvoting_status&place.fields=contained_within%2Ccountry%2Ccountry_code%2Cfull_name%2Cgeo%2Cid%2Cname%2Cplace_type&max_results=100\"\u001b[0m\u001b[1;39m,\r\n",
      "    \u001b[0m\u001b[34;1m\"version\"\u001b[0m\u001b[1;39m: \u001b[0m\u001b[0;32m\"2.12.0\"\u001b[0m\u001b[1;39m,\r\n",
      "    \u001b[0m\u001b[34;1m\"retrieved_at\"\u001b[0m\u001b[1;39m: \u001b[0m\u001b[0;32m\"2022-11-16T21:30:17+00:00\"\u001b[0m\u001b[1;39m\r\n",
      "  \u001b[1;39m}\u001b[0m\u001b[1;39m\r\n",
      "\u001b[1;39m}\u001b[0m\r\n"
     ]
    }
   ],
   "source": [
    "! head -n 1 demo/mfatnz.flatten.jsonl | jq"
   ]
  },
  {
   "cell_type": "markdown",
   "id": "3824112e",
   "metadata": {},
   "source": [
    "Finally, let's convert it into the CSV format, which can be opened by a spreadsheet program like Excel, or by Python libraries like Pandas."
   ]
  },
  {
   "cell_type": "code",
   "execution_count": 5,
   "id": "acb11ef5",
   "metadata": {
    "scrolled": true
   },
   "outputs": [
    {
     "name": "stdout",
     "output_type": "stream",
     "text": [
      "100%|██████████████| Processed 23.5M/23.5M of input file [00:01<00:00, 21.7MB/s]\n",
      "\n",
      "ℹ️\n",
      "Parsed 3224 tweets objects from 3224 lines in the input file.\n",
      "Wrote 3224 rows and output 83 columns in the CSV.\n",
      "\n"
     ]
    }
   ],
   "source": [
    "! twarc2 csv demo/mfatnz.flatten.jsonl demo/mfatnz.csv"
   ]
  },
  {
   "cell_type": "markdown",
   "id": "433df7df",
   "metadata": {},
   "source": [
    "Let's check how many Tweets we have from MFAT."
   ]
  },
  {
   "cell_type": "code",
   "execution_count": 7,
   "id": "39fa8d98",
   "metadata": {},
   "outputs": [
    {
     "name": "stdout",
     "output_type": "stream",
     "text": [
      "3225 demo/mfatnz.csv\r\n"
     ]
    }
   ],
   "source": [
    "# wc is a program that counts how many lines there are in a file\n",
    "! wc -l demo/mfatnz.csv"
   ]
  },
  {
   "cell_type": "markdown",
   "id": "f739ca50",
   "metadata": {},
   "source": [
    "Let's move the CSV file into the `tweets` directory for the next step."
   ]
  },
  {
   "cell_type": "code",
   "execution_count": 3,
   "id": "30de9e2b",
   "metadata": {},
   "outputs": [],
   "source": [
    "! mv demo/mfatnz.csv tweets/mfatnz.csv"
   ]
  },
  {
   "cell_type": "markdown",
   "id": "10b846e2",
   "metadata": {},
   "source": [
    "**Exercise**: Now do the same for [@DFAT](twitter.com/dfat) (Australia) and [@Fiji_MOFA](twitter.com/fiji_mofa) (Fiji). We should end up with nine files in total, and three CSV files in the `tweets` folder, one for each organisation."
   ]
  },
  {
   "cell_type": "markdown",
   "id": "58904a93",
   "metadata": {},
   "source": [
    "# Part Two - Analysing what the Foreign Affairs departments are saying\n",
    "We've finished collecting data from Twitter. Let's see how many Tweets we now have."
   ]
  },
  {
   "cell_type": "code",
   "execution_count": 8,
   "id": "bb6b59ac",
   "metadata": {},
   "outputs": [
    {
     "name": "stdout",
     "output_type": "stream",
     "text": [
      "    3250 tweets/dfat.csv\n",
      "    1977 tweets/fiji_mofa.csv\n",
      "    3225 tweets/mfatnz.csv\n",
      "    8452 total\n"
     ]
    }
   ],
   "source": [
    "! wc -l tweets/*.csv"
   ]
  },
  {
   "cell_type": "markdown",
   "id": "16e11ef4",
   "metadata": {},
   "source": [
    "That's more than 8,000 Tweets! Let's import them into Pandas, a Python library that has neat ways to manipulate data. "
   ]
  },
  {
   "cell_type": "code",
   "execution_count": 14,
   "id": "f3616932",
   "metadata": {},
   "outputs": [],
   "source": [
    "import pandas as pd\n",
    "from pandas import Grouper\n",
    "from tqdm import tqdm\n",
    "\n",
    "# To display Tweet text in full, make column width long.\n",
    "pd.set_option('max_colwidth', 300)"
   ]
  },
  {
   "cell_type": "code",
   "execution_count": 15,
   "id": "45d4989a",
   "metadata": {},
   "outputs": [],
   "source": [
    "aus_tweets = pd.read_csv(\"tweets/dfat.csv\")\n",
    "nz_tweets = pd.read_csv(\"tweets/mfatnz.csv\")\n",
    "fiji_tweets = pd.read_csv(\"tweets/fiji_mofa.csv\")"
   ]
  },
  {
   "cell_type": "markdown",
   "id": "9b27cd1c",
   "metadata": {},
   "source": [
    "To get a flavour of what the Tweets say, we can get a random sample of them. It's good to use this to check your assumptions about the data."
   ]
  },
  {
   "cell_type": "code",
   "execution_count": 11,
   "id": "8ce81d6e",
   "metadata": {
    "scrolled": false
   },
   "outputs": [
    {
     "data": {
      "text/plain": [
       "3083                     You're invited to join government and industry experts in Canberra on 27 February to network and hear how to take advantage of Australia's free trade agreements. \\n\\nFor more information, follow this link https://t.co/IAW3I73QuC\\n\\n#Ausbiz #freetrade #commercialdiplomacy @Austrade\n",
       "2926                       🇦🇺 Australia has delivered emergency relief supplies to Fiji 🇫🇯  following #TCHarold. Supplies include shelters, water containers &amp; personal hygiene kits to help our Pacific family get back on their feet. #Vuvale @AusHCFJ @DeptDefence @AusHumanitarian https://t.co/F2t4Jd7vdz\n",
       "219                                                   @PaulD57769364 @DFATVic @SenatorWong @3AWNeilMitchell Hi @PaulD57769364, we don’t have enough information from your comment to identify your application. Please call us on 131 232 or email passports.clientservices@dfat.gov.au with your contact details.\n",
       "1362                       #ASEAN is at the heart of an inclusive, resilient &amp; open #IndoPacific. This week, I had a productive meeting with my Cambodian counterpart, Prak Sokhonn, on the 🇦🇺+🇰🇭 relationship, our shared COVID-19 recovery &amp; 🇰🇭's upcoming year as @ASEAN Chair. https://t.co/9Myf4DDWgn\n",
       "1993                                                                                                By partnering with Vanuatu to build durable, high-quality roads and infrastructure, 🇦🇺 is helping to support economic growth &amp; improve access to services for communities in 🇻🇺 ⬇️ https://t.co/TVd6ZjdOsA\n",
       "1122                                                                                                                             @DStevenson Hi @DStevenson, please email the Australian Passport Office at passports.clientservices@dfat.gov.au with your contact details so that we can assist with your enquiry\n",
       "1110                                                                                                                                                                                                                         @Jodie3735 @UNICEF @WHO @WorldBank For more information, see: https://t.co/SypKyoF6gm\n",
       "371                                                                                        @anusha9 Hi @anusha9, we're experiencing high demand for our passport services &amp; we thank you for your patience. Child passport applications have extra security checks &amp; can often take longer to process. 1/2\n",
       "2469                                           I congratulate my New Zealand counterpart the Hon @NanaiaMahuta on her appointment. Today, we discussed our COVID-19 responses, trans-Tasman quarantine free travel to Australia and our respective Step-up and Reset in the #Pacific. 🇦🇺🇳🇿 https://t.co/YwmgnBZ9zh\n",
       "2904    #AnzacDay2020 from the skies ✈️\\n\\nWe worked with @Qantas on a facilitated commercial flight to bring Aussies home from Argentina.\\n\\nThe Melbourne-bound plane from Buenos Aires had some spare seats so we helped our Kiwi mates get home too #AnzacSpirit 🇦🇺 🇳🇿 @EmbAustraliaBA https://t.co/9UehqqU4hT\n",
       "Name: text, dtype: object"
      ]
     },
     "execution_count": 11,
     "metadata": {},
     "output_type": "execute_result"
    }
   ],
   "source": [
    "aus_tweets.sample(10).text"
   ]
  },
  {
   "cell_type": "markdown",
   "id": "009b37d3",
   "metadata": {},
   "source": [
    "### How do we get through more than 8000 Tweets?\n",
    "With Twitter, we are usually handling millions of Tweets at a time. It quickly becomes untenable to read through all of them in our analysis. We can rely on a technique called [distant reading](https://en.wikipedia.org/wiki/Distant_reading) to apply computational techniques.\n",
    "\n",
    "This is where natural language processing (NLP) methods can help. Specifically, a branch of NLP called Information Extraction (IE). This is research on how to automate various tasks, many of which humans often take for granted. Some of them include:\n",
    "* Named-entity recognition (NER) - identify named entities like people, organisations, dates.\n",
    "* Entity linking/disambiguation - a common next step after NER, which names refer to the same entity. Often linked to a knowledgebase of predefined ontologies.\n",
    "* Relation extraction - identify relationship between identified entities.\n",
    "* Event extraction/frame semantic parsing - finding whether a given event is described in the text, and which words are associated with which roles. e.g. an ATTACK event might have a perpetrator, victim and weapon. \n",
    "\n",
    "Recent advances in deep learning techniques and the availability of big textual corpuses have improved the accuracy of these techniques.\n",
    "\n",
    "Preprocessing the text is needed to make these approaches more successful. This includes:\n",
    "* Tokenising - breaking a sentence into its constituent words or \"tokens\". There are Twitter-specific things to watch out for, such as hashtags, emojis, casings.\n",
    "* Removing high- and low-frequency words - \"stopwords\"\n",
    "* Casing - iRreguLar CaSiNG.\n",
    "* Stemming and lemmatising - remove suffixes from words, e.g. \"writing\", \"wrote\" -> \"write\"\n",
    "* Part-of-speech tagging - identifying the role of each word. e.g. nouns, verbs, prepositions\n",
    "The steps required vary between models, and the techniques and text features you want to study. For example, it may not be desirable to convert everything to lowercase if you wish to study the emotional content of Tweets, and casing can express emotions. \n",
    "\n",
    "**Exercise**: How might we apply these techniques to the Tweets from the foreign affairs ministries?\n",
    "\n",
    "**We will focus on a simple application of named-entity recognition today.** Let's try to find out how often these foreign affairs ministries talk about other countries!\n",
    "\n",
    "### Introducing SpaCy\n",
    "SpaCy is an \"industrial-strength natural language processing\" library. It incorporates various pre-written, pre-trained NLP models, so you don't have to start from scratch. By default, it also includes many pre-processing steps\n",
    "\n",
    "#### What's the difference between NLTK and SpaCy?\n",
    "You may have heard about NLTK, which is a popular library for teaching NLP and computational linguistics. The difference comes down to their approach and included models. Approach-wise, NLTK gives you lots of useful functions that you can combine to create a NLP pipeline, which makes it ideal for NLP teaching and research. SpaCy offers you a curated pipeline that you can customise, which makes it easy to use. NLTK is like a set of Lego bricks, compared to SpaCy which is like a pre-built Lego model. SpaCy also offers newer, more accurate pre-trained models, so you don't have to train them yourself. We will be drawing from both libraries today."
   ]
  },
  {
   "cell_type": "code",
   "execution_count": 13,
   "id": "265e1593",
   "metadata": {},
   "outputs": [],
   "source": [
    "import spacy\n",
    "import nltk\n",
    "from spacy import displacy\n",
    "from pprint import pprint\n",
    "\n",
    "# SpaCy offers different pre-trained language models of various sizes you can download. We are using the _sm_all version.\n",
    "nlp = spacy.load(\"en_core_web_sm\")"
   ]
  },
  {
   "cell_type": "markdown",
   "id": "2ff89edb",
   "metadata": {},
   "source": [
    "Let's see what SpaCy can do out of the box. First we can select a random Tweet."
   ]
  },
  {
   "cell_type": "code",
   "execution_count": 17,
   "id": "345b2617",
   "metadata": {},
   "outputs": [
    {
     "data": {
      "text/plain": [
       "\"DFAT's @CentreHealthSec is supporting research in Indonesia on COVID-19 treatment practices by community pharmacies and drug stores. Find out more about the PINTAR study 👇 https://t.co/kqt3V2y8Zs\""
      ]
     },
     "execution_count": 17,
     "metadata": {},
     "output_type": "execute_result"
    }
   ],
   "source": [
    "tweet = aus_tweets.sample(1).text.to_list()[0]\n",
    "tweet"
   ]
  },
  {
   "cell_type": "markdown",
   "id": "02ae7365",
   "metadata": {},
   "source": [
    "Then, we use SpaCy's `nlp` function to process the Tweet using the `en_core_web_sm` model we specified above. The built-in `displacy.render` visualiser function can show the Tweet with all the named entities the pipeline recognised and classified. This function be used to show other features recgonised by the pipeline too."
   ]
  },
  {
   "cell_type": "code",
   "execution_count": 18,
   "id": "23d0552a",
   "metadata": {},
   "outputs": [
    {
     "data": {
      "text/html": [
       "<span class=\"tex2jax_ignore\"><div class=\"entities\" style=\"line-height: 2.5; direction: ltr\">\n",
       "<mark class=\"entity\" style=\"background: #7aecec; padding: 0.45em 0.6em; margin: 0 0.25em; line-height: 1; border-radius: 0.35em;\">\n",
       "    DFAT\n",
       "    <span style=\"font-size: 0.8em; font-weight: bold; line-height: 1; border-radius: 0.35em; vertical-align: middle; margin-left: 0.5rem\">ORG</span>\n",
       "</mark>\n",
       "'s \n",
       "<mark class=\"entity\" style=\"background: #aa9cfc; padding: 0.45em 0.6em; margin: 0 0.25em; line-height: 1; border-radius: 0.35em;\">\n",
       "    @CentreHealthSec\n",
       "    <span style=\"font-size: 0.8em; font-weight: bold; line-height: 1; border-radius: 0.35em; vertical-align: middle; margin-left: 0.5rem\">PERSON</span>\n",
       "</mark>\n",
       " is supporting research in \n",
       "<mark class=\"entity\" style=\"background: #feca74; padding: 0.45em 0.6em; margin: 0 0.25em; line-height: 1; border-radius: 0.35em;\">\n",
       "    Indonesia\n",
       "    <span style=\"font-size: 0.8em; font-weight: bold; line-height: 1; border-radius: 0.35em; vertical-align: middle; margin-left: 0.5rem\">GPE</span>\n",
       "</mark>\n",
       " on \n",
       "<mark class=\"entity\" style=\"background: #7aecec; padding: 0.45em 0.6em; margin: 0 0.25em; line-height: 1; border-radius: 0.35em;\">\n",
       "    COVID-19\n",
       "    <span style=\"font-size: 0.8em; font-weight: bold; line-height: 1; border-radius: 0.35em; vertical-align: middle; margin-left: 0.5rem\">ORG</span>\n",
       "</mark>\n",
       " treatment practices by community pharmacies and drug stores. Find out more about the PINTAR study 👇 https://t.co/kqt3V2y8Zs</div></span>"
      ],
      "text/plain": [
       "<IPython.core.display.HTML object>"
      ]
     },
     "metadata": {},
     "output_type": "display_data"
    }
   ],
   "source": [
    "doc = nlp(tweet)\n",
    "displacy.render(doc, style=\"ent\", jupyter=True)"
   ]
  },
  {
   "cell_type": "markdown",
   "id": "7c8439bb",
   "metadata": {},
   "source": [
    "Looks like the pipeline was able to pick up on the fact that Indonesia is a country, and labelled it as a GPE (**g**eo**p**olitical **e**ntity). Each model in SpaCy has different labels it may apply. You can use the `spacy.explain` function to learn more about each label, look at [`en_core_web_sm` model's labels](https://spacy.io/models/en#en_core_web_sm), and learn more about [SpaCy's linguistics features labelling](https://spacy.io/usage/linguistic-features) in general.\n",
    "\n",
    "To get back to the task at hand, we can figure out how often nation-states talk about each other by summing up the mentions. We can programatically access each word's entity labels and tally up the frequency for each mentioned country."
   ]
  },
  {
   "cell_type": "code",
   "execution_count": 106,
   "id": "0e182447",
   "metadata": {},
   "outputs": [],
   "source": [
    "def freq_gpe(df):\n",
    "    # First, we process all the Tweets using the nlp function.\n",
    "    tweets = df['text'].tolist()\n",
    "    docs = [\n",
    "        # tqdm is a function that shows us a progress bar as we loop through the tweets.\n",
    "        nlp(t) for t in tqdm(tweets)\n",
    "    ]\n",
    "    # This goes through each processed Tweet, looks through the list of entities\n",
    "    #  and keep entities that are GPEs.\n",
    "    # This gives a list of lists of GPE entities in each Tweet.\n",
    "    gpe_token_lists = [\n",
    "           [\n",
    "               ent for ent in doc.ents \n",
    "                if ent.label_ == \"GPE\"\n",
    "           ]\n",
    "           for doc in docs\n",
    "    ]\n",
    "    # We flatten that list of lists into a list of tokens from all Tweets.\n",
    "    gpe_tokens = []\n",
    "    for l in gpe_token_lists:\n",
    "        gpe_tokens += l\n",
    "    # Finally, we use NLTK's FreqDist class to calculate\n",
    "    # frequency for us.\n",
    "    return nltk.FreqDist([token.text for token in gpe_tokens])"
   ]
  },
  {
   "cell_type": "markdown",
   "id": "94d74069",
   "metadata": {},
   "source": [
    "We now apply this function to each Foreign Affairs department' Twitter account."
   ]
  },
  {
   "cell_type": "code",
   "execution_count": 96,
   "id": "b09b0ff3",
   "metadata": {
    "scrolled": false
   },
   "outputs": [
    {
     "name": "stderr",
     "output_type": "stream",
     "text": [
      "100%|██████████████████████████████████████████████████████████████| 3249/3249 [00:15<00:00, 203.10it/s]\n"
     ]
    }
   ],
   "source": [
    "aus_freq = freq_gpe(aus_tweets)"
   ]
  },
  {
   "cell_type": "markdown",
   "id": "908f6eed",
   "metadata": {},
   "source": [
    "Using `FreqDist`'s the `most_common` function, we can look at the 20 most frequently occurring entities labelled as geopolitical entities. In other words, 20 of the each foreign affairs ministry's most commonly mentioned countries."
   ]
  },
  {
   "cell_type": "code",
   "execution_count": 26,
   "id": "1954ce82",
   "metadata": {},
   "outputs": [
    {
     "data": {
      "text/plain": [
       "[('Australia', 909),\n",
       " ('Indonesia', 74),\n",
       " ('India', 66),\n",
       " ('Fiji', 65),\n",
       " ('Ukraine', 52),\n",
       " ('Russia', 41),\n",
       " ('Vietnam', 39),\n",
       " ('Tonga', 37),\n",
       " ('UK', 33),\n",
       " ('US', 32),\n",
       " ('Afghanistan', 29),\n",
       " ('China', 25),\n",
       " ('Japan', 23),\n",
       " ('Myanmar', 22),\n",
       " ('Philippines', 21),\n",
       " ('Canberra', 20),\n",
       " ('Singapore', 20),\n",
       " ('Solomon Islands', 20),\n",
       " ('Beirut', 18),\n",
       " ('Canada', 16)]"
      ]
     },
     "execution_count": 26,
     "metadata": {},
     "output_type": "execute_result"
    }
   ],
   "source": [
    "aus_freq.most_common(20)"
   ]
  },
  {
   "cell_type": "code",
   "execution_count": 101,
   "id": "87fa333c",
   "metadata": {},
   "outputs": [
    {
     "name": "stderr",
     "output_type": "stream",
     "text": [
      "100%|██████████████████████████████████████████████████████████████| 3224/3224 [00:17<00:00, 186.12it/s]\n"
     ]
    }
   ],
   "source": [
    "nz_freq = freq_gpe(nz_tweets)"
   ]
  },
  {
   "cell_type": "code",
   "execution_count": 102,
   "id": "f45c9c2b",
   "metadata": {
    "scrolled": false
   },
   "outputs": [
    {
     "data": {
      "text/plain": [
       "[('New Zealand', 785),\n",
       " ('NZ', 453),\n",
       " ('New Zealand’s', 102),\n",
       " ('Australia', 59),\n",
       " ('US', 55),\n",
       " ('UK', 54),\n",
       " ('India', 50),\n",
       " ('Japan', 46),\n",
       " ('China', 46),\n",
       " ('Wellington', 45),\n",
       " ('Ukraine', 43),\n",
       " ('Russia', 42),\n",
       " ('Fiji', 41),\n",
       " ('Canada', 39),\n",
       " ('Singapore', 37),\n",
       " ('Auckland', 30),\n",
       " (\"New Zealand's\", 26),\n",
       " ('Myanmar', 26),\n",
       " ('New York', 26),\n",
       " ('Chile', 26)]"
      ]
     },
     "execution_count": 102,
     "metadata": {},
     "output_type": "execute_result"
    }
   ],
   "source": [
    "nz_freq.most_common(20)"
   ]
  },
  {
   "cell_type": "code",
   "execution_count": 104,
   "id": "666dbf4b",
   "metadata": {},
   "outputs": [
    {
     "name": "stderr",
     "output_type": "stream",
     "text": [
      "100%|██████████████████████████████████████████████████████████████| 1976/1976 [00:10<00:00, 184.78it/s]\n"
     ]
    }
   ],
   "source": [
    "fiji_freq = freq_gpe(fiji_tweets)"
   ]
  },
  {
   "cell_type": "code",
   "execution_count": 105,
   "id": "87f1ec25",
   "metadata": {
    "scrolled": true
   },
   "outputs": [
    {
     "data": {
      "text/plain": [
       "[('Fiji', 1034),\n",
       " ('Australia', 86),\n",
       " ('New Zealand', 42),\n",
       " ('Suva', 38),\n",
       " ('Japan', 37),\n",
       " ('India', 37),\n",
       " ('TCYasa', 21),\n",
       " ('the Republic of Fiji', 20),\n",
       " ('Nadi', 20),\n",
       " ('Geneva', 19),\n",
       " ('UK', 17),\n",
       " ('US', 16),\n",
       " ('USA', 16),\n",
       " ('Canada', 16),\n",
       " ('🇯', 15),\n",
       " ('the United States', 15),\n",
       " ('New York', 15),\n",
       " ('Vuvale', 14),\n",
       " ('Canberra', 14),\n",
       " ('@COP26', 14)]"
      ]
     },
     "execution_count": 105,
     "metadata": {},
     "output_type": "execute_result"
    }
   ],
   "source": [
    "fiji_freq.most_common(20)"
   ]
  },
  {
   "cell_type": "markdown",
   "id": "ce9f73c9",
   "metadata": {},
   "source": [
    "## We did it!\n",
    "\n",
    "I hope this gives a taste of what's possible with NLP techniques. There are many things to improve on. As you can see, there are entities which are obviously not countries, and separate entities that should be one (e.g. \"the United States\", \"US\" and \"USA\".) Applying preprocessing steps by customising the SpaCy pipeline could reduce these problems.\n",
    "\n",
    "**Exercise:** Try using another SpaCy model, such as `en_core_web_trf`. How does it differ in results? What other things could we do to improve the results?"
   ]
  },
  {
   "cell_type": "code",
   "execution_count": null,
   "id": "6aef41c2",
   "metadata": {},
   "outputs": [],
   "source": []
  }
 ],
 "metadata": {
  "kernelspec": {
   "display_name": "Python 3 (ipykernel)",
   "language": "python",
   "name": "python3"
  },
  "language_info": {
   "codemirror_mode": {
    "name": "ipython",
    "version": 3
   },
   "file_extension": ".py",
   "mimetype": "text/x-python",
   "name": "python",
   "nbconvert_exporter": "python",
   "pygments_lexer": "ipython3",
   "version": "3.10.9"
  }
 },
 "nbformat": 4,
 "nbformat_minor": 5
}
